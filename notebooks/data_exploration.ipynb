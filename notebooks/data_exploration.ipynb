{
 "cells": [
  {
   "cell_type": "code",
   "execution_count": null,
   "metadata": {},
   "outputs": [],
   "source": [
    "import pandas as pd\n",
    "import re\n",
    "from sklearn.neighbors import NearestNeighbors\n",
    "from sklearn.preprocessing import OneHotEncoder, StandardScaler\n",
    "from sklearn.compose import ColumnTransformer\n",
    "from sklearn.pipeline import Pipeline\n",
    "from sklearn.preprocessing import MinMaxScaler\n",
    "pd.set_option('display.max_columns',None)"
   ]
  },
  {
   "cell_type": "code",
   "execution_count": null,
   "metadata": {},
   "outputs": [],
   "source": [
    "raw_plans = pd.read_csv('~/like-plans/data/raw/raw_plans.csv')\n",
    "clean_plans = pd.read_csv('~/like-plans/data/processed/plans.csv')"
   ]
  },
  {
   "cell_type": "code",
   "execution_count": null,
   "metadata": {},
   "outputs": [],
   "source": [
    "clean_plans[clean_plans['plan_type'] == 'EPO'].head(5)"
   ]
  },
  {
   "cell_type": "code",
   "execution_count": null,
   "metadata": {},
   "outputs": [],
   "source": [
    "raw_plans['network_name'].unique()"
   ]
  },
  {
   "cell_type": "code",
   "execution_count": null,
   "metadata": {},
   "outputs": [],
   "source": [
    "raw_plans.groupby('network_name')['carrier_name'].nunique()"
   ]
  },
  {
   "cell_type": "code",
   "execution_count": null,
   "metadata": {},
   "outputs": [],
   "source": [
    "networks = raw_plans[['carrier_name', 'network_name','network_size']].drop_duplicates().copy()"
   ]
  },
  {
   "cell_type": "code",
   "execution_count": null,
   "metadata": {},
   "outputs": [],
   "source": [
    "import numpy as np\n",
    "networks.rename(columns={'network_size':'ideon_network_size'},inplace=True)\n",
    "networks['ribbon_network_id'] = np.nan"
   ]
  },
  {
   "cell_type": "code",
   "execution_count": null,
   "metadata": {},
   "outputs": [],
   "source": [
    "network_csv = pd.read_csv('/Users/kieranshaw/like-plans/data/external/networks/sample.csv')"
   ]
  },
  {
   "cell_type": "code",
   "execution_count": null,
   "metadata": {},
   "outputs": [],
   "source": [
    "network_csv['ribbon_id'] = np.nan"
   ]
  },
  {
   "cell_type": "code",
   "execution_count": null,
   "metadata": {},
   "outputs": [],
   "source": [
    "network_csv.to_csv('~/like-plans/data/external/networks/sample.csv',index=False)"
   ]
  },
  {
   "cell_type": "code",
   "execution_count": null,
   "metadata": {},
   "outputs": [],
   "source": [
    "df_model = clean_plans[[\n",
    "    'level',\n",
    "    'plan_type',\n",
    "    'hsa_eligible',\n",
    "    'infertility_treatment_rider',\n",
    "    'individual_medical_deductible_in_network',\n",
    "    # 'individual_medical_deductible_out_of_network',\n",
    "    'family_medical_deductible_in_network',\n",
    "    # 'family_medical_deductible_out_of_network',\n",
    "    'individual_medical_moop_in_network',\n",
    "    # 'individual_medical_moop_out_of_network',\n",
    "    'family_medical_moop_in_network',\n",
    "    # 'family_medical_moop_out_of_network',\n",
    "    'coinsurance_in_network',\n",
    "    # 'coinsurance_out_of_network'\n",
    "]].copy()"
   ]
  },
  {
   "cell_type": "code",
   "execution_count": null,
   "metadata": {},
   "outputs": [],
   "source": [
    "# if the coinsurance is not applicable, lets change it to 0\n",
    "df_model[\"coinsurance_in_network\"] = df_model[\"coinsurance_in_network\"].fillna(0)\n",
    "\n",
    "# categorical columns\n",
    "categorical_cols = [col for col in df_model.columns if df_model[col].dtype == \"object\"]\n",
    "\n",
    "# boolean columns\n",
    "boolean_columns = [col for col in df_model.columns if df_model[col].dtype == \"bool\"]\n",
    "\n",
    "# numerical columns\n",
    "numerical_cols = [col for col in df_model.columns if df_model[col].dtype in [\"int64\", \"float64\"]]\n",
    "\n",
    "# Preprocessing for categorical data and numerical data\n",
    "preprocessor = ColumnTransformer(\n",
    "    transformers=[\n",
    "        ('num', StandardScaler(), numerical_cols),\n",
    "        ('cat', OneHotEncoder(handle_unknown='ignore'), categorical_cols),\n",
    "        ('bool', MinMaxScaler(feature_range=(0, 1)), boolean_columns),\n",
    "    ]\n",
    ")\n",
    "\n",
    "df_transformed = preprocessor.fit_transform(df_model)\n",
    "knn = NearestNeighbors(n_neighbors=100, metric='cosine')\n",
    "knn.fit(df_transformed)"
   ]
  },
  {
   "cell_type": "code",
   "execution_count": null,
   "metadata": {},
   "outputs": [],
   "source": [
    "# Select a random plan and transform it\n",
    "random_plan = df_model.sample(n=1)\n",
    "random_plan_transformed = preprocessor.transform(random_plan)\n",
    "\n",
    "# Find nearest neighbors\n",
    "distances, indices = knn.kneighbors(random_plan_transformed)\n",
    "\n",
    "# Retrieve nearest plans (indices) and distances\n",
    "nearest_plans_indices = indices[0]\n",
    "distances_df = pd.DataFrame(distances.transpose(), columns=['similarity_score'])\n",
    "\n",
    "# Joining the nearest plans with clean_plans\n",
    "nearest_plans_full_info = clean_plans.iloc[nearest_plans_indices].copy()\n",
    "nearest_plans_full_info.reset_index(drop=True, inplace=True)\n",
    "distances_df.reset_index(drop=True, inplace=True)\n",
    "\n",
    "# Adding the similarity scores\n",
    "nearest_plans_full_info = pd.concat([nearest_plans_full_info, distances_df], axis=1)\n",
    "nearest_plans_full_info[(nearest_plans_full_info['carrier_name'] != 'CalChoice') & (nearest_plans_full_info['carrier_name'] != 'CoveredCA') & (nearest_plans_full_info['similarity_score'] != 0)].head(10)"
   ]
  },
  {
   "cell_type": "code",
   "execution_count": null,
   "metadata": {},
   "outputs": [],
   "source": [
    "nearest_plans_full_info.head93)"
   ]
  },
  {
   "cell_type": "code",
   "execution_count": null,
   "metadata": {},
   "outputs": [],
   "source": []
  }
 ],
 "metadata": {
  "kernelspec": {
   "display_name": "Python 3",
   "language": "python",
   "name": "python3"
  },
  "language_info": {
   "codemirror_mode": {
    "name": "ipython",
    "version": 3
   },
   "file_extension": ".py",
   "mimetype": "text/x-python",
   "name": "python",
   "nbconvert_exporter": "python",
   "pygments_lexer": "ipython3",
   "version": "3.10.13"
  },
  "orig_nbformat": 4,
  "vscode": {
   "interpreter": {
    "hash": "2e6f3c06fe5b43ab89ac289fcd71eab355ed3c80a49db1f475bd86bb54a12bb3"
   }
  }
 },
 "nbformat": 4,
 "nbformat_minor": 2
}

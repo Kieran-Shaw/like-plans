{
 "cells": [
  {
   "cell_type": "code",
   "execution_count": null,
   "metadata": {},
   "outputs": [],
   "source": [
    "import pandas as pd\n",
    "import matplotlib.pyplot as plt\n",
    "import seaborn as sns\n",
    "import os"
   ]
  },
  {
   "cell_type": "code",
   "execution_count": null,
   "metadata": {},
   "outputs": [],
   "source": [
    "df = pd.read_csv('~/like-plans/data/processed/plans.csv')"
   ]
  },
  {
   "cell_type": "code",
   "execution_count": null,
   "metadata": {},
   "outputs": [],
   "source": [
    "file_path = '~/like-plans/notebooks/viz/plan_type_by_carrier.png'\n",
    "file_path = os.path.expanduser(file_path)\n",
    "\n",
    "# plan types by carrier\n",
    "grouped_data = df.groupby(['carrier_name', 'plan_type']).size().reset_index(name='counts')\n",
    "\n",
    "# Plotting\n",
    "plt.figure(figsize=(20, 6))\n",
    "sns.barplot(x='carrier_name', y='counts', hue='plan_type', data=grouped_data)\n",
    "plt.title('Count of Plan Type by Carrier')\n",
    "plt.xlabel('Carrier')\n",
    "plt.ylabel('Count')\n",
    "\n",
    "# Save the figure\n",
    "plt.savefig(file_path, bbox_inches='tight')\n",
    "plt.show()"
   ]
  },
  {
   "cell_type": "code",
   "execution_count": null,
   "metadata": {},
   "outputs": [],
   "source": [
    "file_path = '~/like-plans/notebooks/viz/metallic_level_by_carrier.png'\n",
    "file_path = os.path.expanduser(file_path)\n",
    "\n",
    "# plan levels by carrier\n",
    "grouped_data = df.groupby(['carrier_name', 'level']).size().reset_index(name='counts')\n",
    "\n",
    "# Plotting\n",
    "plt.figure(figsize=(20, 6))\n",
    "sns.barplot(x='carrier_name', y='counts', hue='level', data=grouped_data)\n",
    "plt.title('Count of Metallic Level by Carrier')\n",
    "plt.xlabel('Carrier')\n",
    "plt.ylabel('Count')\n",
    "# Save the figure\n",
    "plt.savefig(file_path, bbox_inches='tight')\n",
    "plt.show()"
   ]
  },
  {
   "cell_type": "code",
   "execution_count": null,
   "metadata": {},
   "outputs": [],
   "source": []
  }
 ],
 "metadata": {
  "kernelspec": {
   "display_name": "Python 3",
   "language": "python",
   "name": "python3"
  },
  "language_info": {
   "codemirror_mode": {
    "name": "ipython",
    "version": 3
   },
   "file_extension": ".py",
   "mimetype": "text/x-python",
   "name": "python",
   "nbconvert_exporter": "python",
   "pygments_lexer": "ipython3",
   "version": "3.10.13"
  },
  "orig_nbformat": 4,
  "vscode": {
   "interpreter": {
    "hash": "2e6f3c06fe5b43ab89ac289fcd71eab355ed3c80a49db1f475bd86bb54a12bb3"
   }
  }
 },
 "nbformat": 4,
 "nbformat_minor": 2
}

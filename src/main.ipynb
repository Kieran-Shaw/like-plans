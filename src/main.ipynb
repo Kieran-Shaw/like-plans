{
 "cells": [
  {
   "cell_type": "code",
   "execution_count": 1,
   "metadata": {},
   "outputs": [],
   "source": [
    "import pandas as pd\n",
    "from data.get_data import FetchPlansPricings\n",
    "from data.clean_data import HMOEPOCleaner, PPOPOSCleaner"
   ]
  },
  {
   "attachments": {},
   "cell_type": "markdown",
   "metadata": {},
   "source": [
    "### Fetch Data"
   ]
  },
  {
   "cell_type": "code",
   "execution_count": 6,
   "metadata": {},
   "outputs": [
    {
     "name": "stderr",
     "output_type": "stream",
     "text": [
      "/Users/kieranshaw/like-plans/.conda/lib/python3.10/site-packages/google/cloud/bigquery/_pandas_helpers.py:189: UserWarning: Unable to determine type for field '_airbyte_meta'.\n",
      "  warnings.warn(\"Unable to determine type for field '{}'.\".format(bq_field.name))\n"
     ]
    },
    {
     "name": "stdout",
     "output_type": "stream",
     "text": [
      "Saved dataframe from CA, 95030, 2023, Q1 to /Users/kieranshaw/like-plans/data/raw/raw_plans.csv\n",
      "Saved dataframe from CA, 95030, 2023, Q1 to /Users/kieranshaw/like-plans/data/raw/raw_pricings.csv\n"
     ]
    }
   ],
   "source": [
    "data_fetcher = FetchPlansPricings(state=\"CA\", zip_code=95030, year=2023, quarter=\"Q1\")\n",
    "data_fetcher.fetch_and_save_data()"
   ]
  },
  {
   "cell_type": "markdown",
   "metadata": {},
   "source": [
    "### Clean Data"
   ]
  },
  {
   "cell_type": "code",
   "execution_count": 2,
   "metadata": {},
   "outputs": [],
   "source": [
    "# Create an instance of HMOEPOCleaner\n",
    "hmo_epo_cleaner = HMOEPOCleaner()\n",
    "ppo_pos_cleaner = PPOPOSCleaner()\n",
    "\n",
    "# Read the raw data\n",
    "hmo_epo_raw_data = hmo_epo_cleaner.read_data()\n",
    "ppo_pos_raw_data = ppo_pos_cleaner.read_data()\n",
    "\n",
    "# Clean the data\n",
    "hmo_epo_cleaned_data = hmo_epo_cleaner.clean(df=hmo_epo_raw_data)\n",
    "ppo_pos_cleaned_data = ppo_pos_cleaner.clean(df=ppo_pos_raw_data)\n",
    "\n",
    "# Save the cleaned data\n",
    "hmo_epo_cleaner.save_data(df=hmo_epo_cleaned_data)\n",
    "ppo_pos_cleaner.save_data(df=ppo_pos_cleaned_data)"
   ]
  },
  {
   "cell_type": "markdown",
   "metadata": {},
   "source": [
    "### Feature Building"
   ]
  },
  {
   "cell_type": "code",
   "execution_count": null,
   "metadata": {},
   "outputs": [],
   "source": []
  }
 ],
 "metadata": {
  "kernelspec": {
   "display_name": "Python 3",
   "language": "python",
   "name": "python3"
  },
  "language_info": {
   "codemirror_mode": {
    "name": "ipython",
    "version": 3
   },
   "file_extension": ".py",
   "mimetype": "text/x-python",
   "name": "python",
   "nbconvert_exporter": "python",
   "pygments_lexer": "ipython3",
   "version": "3.10.13"
  },
  "orig_nbformat": 4,
  "vscode": {
   "interpreter": {
    "hash": "2e6f3c06fe5b43ab89ac289fcd71eab355ed3c80a49db1f475bd86bb54a12bb3"
   }
  }
 },
 "nbformat": 4,
 "nbformat_minor": 2
}
